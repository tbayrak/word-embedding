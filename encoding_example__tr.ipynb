{
  "nbformat": 4,
  "nbformat_minor": 0,
  "metadata": {
    "colab": {
      "name": "encoding_example__tr.ipynb",
      "provenance": [],
      "collapsed_sections": []
    },
    "kernelspec": {
      "name": "python3",
      "display_name": "Python 3"
    },
    "language_info": {
      "name": "python"
    }
  },
  "cells": [
    {
      "cell_type": "code",
      "metadata": {
        "id": "pBLzA1TOp0nN"
      },
      "source": [
        "import pandas as pd\n",
        "\n",
        "# sample data\n",
        "movies = {'bütçe': ['az', 'çok', 'orta', 'orta', 'az', 'az', 'çok'],\n",
        "        'çıktığı gün': ['pazartesi', 'cuma', 'salı', 'çarşamba', 'cumartesi', 'pazar', 'perşembe'],\n",
        "        'tür': ['gerilim', 'korku', 'komedi', 'romantik', 'belgesel', 'komedi', 'gerilim']\n",
        "        }\n",
        "\n",
        "df = pd.DataFrame(movies, columns = ['bütçe', 'çıktığı gün', 'tür'])\n",
        "\n",
        "df_encoded = df.copy()\n",
        "\n",
        "df_encoded[\"bütçe\"].replace({\"az\": 1, \"orta\": 2, 'çok':3}, inplace=True)\n",
        "df_encoded[\"çıktığı gün\"].replace({\"pazartesi\": 1, \"salı\": 2, \"çarşamba\": 3, \"perşembe\": 4, \"cuma\": 5, \"cumartesi\": 6, \"pazar\": 7, }, inplace=True)\n",
        "df_encoded['çıktığı gün'] = np.sin(2 * np.pi * df_encoded['çıktığı gün'] / 6.0)\n",
        "\n",
        "one_hot_columns = pd.get_dummies(df_encoded['tür'])\n",
        "df_encoded = df_encoded.drop('tür',axis = 1)\n",
        "df_encoded = df_encoded.join(one_hot_columns)\n",
        "\n",
        "df_encoded.head(7)"
      ],
      "execution_count": null,
      "outputs": []
    }
  ]
}