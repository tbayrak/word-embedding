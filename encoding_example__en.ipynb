{
  "nbformat": 4,
  "nbformat_minor": 0,
  "metadata": {
    "colab": {
      "name": "encoding_example__en.ipynb",
      "provenance": [],
      "collapsed_sections": []
    },
    "kernelspec": {
      "name": "python3",
      "display_name": "Python 3"
    },
    "language_info": {
      "name": "python"
    }
  },
  "cells": [
    {
      "cell_type": "code",
      "metadata": {
        "id": "pBLzA1TOp0nN"
      },
      "source": [
        "import pandas as pd\n",
        "\n",
        "# sample data\n",
        "movies = {'budget': ['low', 'high', 'average', 'average', 'low', 'low', 'high'],\n",
        "        'release date': ['monday', 'friday', 'tuesday', 'wednesday', 'saturday', 'sunday', 'thursday'],\n",
        "        'genre': ['thriller', 'horror', 'comedy', 'romance', 'documentary', 'comedy', 'thriller']\n",
        "        }\n",
        "\n",
        "df = pd.DataFrame(movies, columns = ['budget', 'release date', 'genre'])\n",
        "\n",
        "df_encoded = df.copy()\n",
        "\n",
        "df_encoded[\"budget\"].replace({\"az\": 1, \"orta\": 2, 'çok':3}, inplace=True)\n",
        "df_encoded[\"release date\"].replace({\"monday\": 1, \"tuesday\": 2, \"wednesday\": 3, \"thursday\": 4, \"friday\": 5, \"saturday\": 6, \"sunday\": 7, }, inplace=True)\n",
        "df_encoded['release date'] = np.sin(2 * np.pi * df_encoded['release date'] / 6.0)\n",
        "\n",
        "one_hot_columns = pd.get_dummies(df_encoded['genre'])\n",
        "df_encoded = df_encoded.drop('genre',axis = 1)\n",
        "df_encoded = df_encoded.join(one_hot_columns)\n",
        "\n",
        "df_encoded.head(7)"
      ],
      "execution_count": null,
      "outputs": []
    }
  ]
}